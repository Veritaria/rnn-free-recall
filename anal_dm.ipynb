{
 "cells": [
  {
   "cell_type": "code",
   "execution_count": 9,
   "metadata": {},
   "outputs": [],
   "source": [
    "from pathlib import Path\n",
    "import numpy as np\n",
    "import matplotlib.pyplot as plt\n",
    "\n",
    "from utils import savefig\n",
    "\n",
    "plt.rcParams['font.size'] = 14"
   ]
  },
  {
   "cell_type": "code",
   "execution_count": 10,
   "metadata": {},
   "outputs": [],
   "source": [
    "exp_path = Path(\"./experiments/CondQA/MemTransModel/figures/sep_matched/DeepValueMemoryTransformGRU/setup_recq_thresdecay\")\n",
    "timestep_each_phase = 4\n",
    "fig_path = Path(\"./figures_qa/recalling\")\n",
    "\n",
    "\n",
    "accuracy_by_timestep = []\n",
    "accuracy_by_num_retrieved_memories = []\n",
    "num_retrieved_memories = []\n",
    "num_matched_memories_retrieved = []\n",
    "\n",
    "for i in range(10):\n",
    "    file_path = exp_path / str(i) / \"data\"\n",
    "    accuracy_by_timestep.append(np.load(file_path / \"accuracy_by_timestep_all.npy\"))\n",
    "    accuracy_by_num_retrieved_memories.append(np.load(file_path / \"accuracy_by_num_retrieved_memories.npy\"))\n",
    "    num_retrieved_memories.append(np.load(file_path / \"num_retrieved_memories_mean_by_timestep.npy\"))\n",
    "    num_matched_memories_retrieved.append(np.load(file_path / \"num_matched_memories_retrieved_mean_by_timestep.npy\"))\n",
    "\n",
    "accuracy_by_timestep_mean = np.mean(accuracy_by_timestep, axis=0)\n",
    "accuracy_by_timestep_std = np.std(accuracy_by_timestep, axis=0)\n",
    "\n",
    "accuracy_by_num_retrieved_memories_mean = np.mean(accuracy_by_num_retrieved_memories, axis=0)\n",
    "accuracy_by_num_retrieved_memories_std = np.std(accuracy_by_num_retrieved_memories, axis=0)\n",
    "\n",
    "num_retrieved_memories_mean = np.mean(num_retrieved_memories, axis=0)\n",
    "num_retrieved_memories_std = np.std(num_retrieved_memories, axis=0)\n",
    "\n",
    "num_matched_memories_retrieved_mean = np.mean(num_matched_memories_retrieved, axis=0)\n",
    "num_matched_memories_retrieved_std = np.std(num_matched_memories_retrieved, axis=0)"
   ]
  },
  {
   "cell_type": "code",
   "execution_count": 11,
   "metadata": {},
   "outputs": [],
   "source": [
    "plt.figure(figsize=(4.7, 3), dpi=180)\n",
    "for i in range(0, timestep_each_phase):\n",
    "    plt.plot(np.arange(1, timestep_each_phase+1), accuracy_by_timestep_mean[i], label=\"{} matched\".format(i+1), marker=\"o\")\n",
    "    plt.fill_between(np.arange(1, timestep_each_phase+1), accuracy_by_timestep_mean[i]-accuracy_by_timestep_std[i], accuracy_by_timestep_mean[i]+accuracy_by_timestep_std[i], alpha=0.2)\n",
    "ax = plt.gca()\n",
    "ax.spines['top'].set_visible(False)\n",
    "ax.spines['right'].set_visible(False)\n",
    "plt.xlabel(\"time in recall phase\")\n",
    "plt.ylabel(\"accuracy\")\n",
    "plt.legend(fontsize=10, bbox_to_anchor=(1.05, 1.0), loc='upper left')\n",
    "plt.tight_layout()\n",
    "savefig(fig_path, \"accuracy_timesteps\")"
   ]
  },
  {
   "cell_type": "code",
   "execution_count": 13,
   "metadata": {},
   "outputs": [],
   "source": [
    "plt.figure(figsize=(4.7, 3), dpi=180)\n",
    "for i in range(1, timestep_each_phase+1):\n",
    "    plt.plot(np.arange(1, timestep_each_phase+1), num_retrieved_memories_mean[i], label=\"{} matched\".format(i), marker=\"o\")\n",
    "    plt.fill_between(np.arange(1, timestep_each_phase+1), num_retrieved_memories_mean[i]-num_retrieved_memories_std[i], num_retrieved_memories_mean[i]+num_retrieved_memories_std[i], alpha=0.2)\n",
    "ax = plt.gca()\n",
    "ax.spines['top'].set_visible(False)\n",
    "ax.spines['right'].set_visible(False)\n",
    "plt.xlabel(\"time in recall phase\")\n",
    "plt.ylabel(\"number of\\nretrieved memories\")\n",
    "plt.legend(fontsize=10, bbox_to_anchor=(1.05, 1.0), loc='upper left')\n",
    "plt.tight_layout()\n",
    "savefig(fig_path, \"num_retrieved_memories\")\n",
    "\n",
    "plt.figure(figsize=(4.7, 3), dpi=180)\n",
    "for i in range(1, timestep_each_phase+1):\n",
    "    plt.plot(np.arange(1, timestep_each_phase+1), num_matched_memories_retrieved_mean[i], label=\"{} matched\".format(i), marker=\"o\")\n",
    "    plt.fill_between(np.arange(1, timestep_each_phase+1), num_matched_memories_retrieved_mean[i]-num_matched_memories_retrieved_std[i], num_matched_memories_retrieved_mean[i]+num_matched_memories_retrieved_std[i], alpha=0.2)\n",
    "ax = plt.gca()\n",
    "ax.spines['top'].set_visible(False)\n",
    "ax.spines['right'].set_visible(False)\n",
    "plt.xlabel(\"time in recall phase\")\n",
    "plt.ylabel(\"number of matched\\nmemories retrieved\")\n",
    "plt.legend(fontsize=10, bbox_to_anchor=(1.05, 1.0), loc='upper left')\n",
    "plt.tight_layout()\n",
    "savefig(fig_path, \"num_matched_memories_retrieved\")\n",
    "\n",
    "plt.figure(figsize=(4.7, 3.2), dpi=180)\n",
    "for i in range(1, timestep_each_phase+1):\n",
    "    plt.plot(np.arange(1, timestep_each_phase+1), accuracy_by_num_retrieved_memories_mean[i], label=\"{} matched\".format(i), marker=\"o\")\n",
    "    plt.fill_between(np.arange(1, timestep_each_phase+1), accuracy_by_num_retrieved_memories_mean[i]-accuracy_by_num_retrieved_memories_std[i], accuracy_by_num_retrieved_memories_mean[i]+accuracy_by_num_retrieved_memories_std[i], alpha=0.2)\n",
    "ax = plt.gca()\n",
    "ax.spines['top'].set_visible(False)\n",
    "ax.spines['right'].set_visible(False)\n",
    "plt.xlabel(\"number of retrieved\\nmemories\")\n",
    "plt.ylabel(\"accuracy\")\n",
    "plt.legend(fontsize=10, bbox_to_anchor=(1.05, 1.0), loc='upper left')\n",
    "plt.tight_layout()\n",
    "savefig(fig_path, \"accuracy_num_retrieved_memories\")\n"
   ]
  }
 ],
 "metadata": {
  "kernelspec": {
   "display_name": "ml",
   "language": "python",
   "name": "python3"
  },
  "language_info": {
   "codemirror_mode": {
    "name": "ipython",
    "version": 3
   },
   "file_extension": ".py",
   "mimetype": "text/x-python",
   "name": "python",
   "nbconvert_exporter": "python",
   "pygments_lexer": "ipython3",
   "version": "3.10.15"
  }
 },
 "nbformat": 4,
 "nbformat_minor": 2
}
