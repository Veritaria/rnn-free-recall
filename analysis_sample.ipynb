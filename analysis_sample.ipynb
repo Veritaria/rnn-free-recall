{
 "cells": [
  {
   "cell_type": "code",
   "execution_count": 17,
   "id": "e9115d8e",
   "metadata": {},
   "outputs": [],
   "source": [
    "import colorcet as cc\n",
    "import numpy as np\n",
    "import matplotlib.colors as mcolors\n",
    "import matplotlib.pyplot as plt\n",
    "\n",
    "plt.rcParams['font.size'] = 14\n",
    "\n"
   ]
  },
  {
   "cell_type": "code",
   "execution_count": null,
   "id": "d8084d3b",
   "metadata": {},
   "outputs": [
    {
     "name": "stdout",
     "output_type": "stream",
     "text": [
      "['#ebcd24', '#0035f9', '#0035f9', '#0035f9']\n"
     ]
    },
    {
     "data": {
      "image/png": "[encoded data removed]",
      "text/plain": [
       "<Figure size 800x200 with 1 Axes>"
      ]
     },
     "metadata": {},
     "output_type": "display_data"
    }
   ],
   "source": [
    "# Get colorcet colors\n",
    "colors = np.array([cc.cm.rainbow.reversed()(i) for i in np.linspace(0.4, 0.8, 4)])\n",
    "\n",
    "# Convert to hex format\n",
    "hex_colors = [mcolors.to_hex(color) for color in colors]\n",
    "print(hex_colors)\n",
    "\n",
    "\n",
    "# Plot the colors\n",
    "plt.figure(figsize=(8, 2))\n",
    "for i, color in enumerate(hex_colors):\n",
    "    plt.fill_between([i, i+1], 0, 1, color=color)\n",
    "plt.xlim(0, len(hex_colors))\n",
    "plt.xticks([])\n",
    "plt.yticks([])\n",
    "plt.gca().spines['top'].set_visible(False)\n",
    "plt.gca().spines['right'].set_visible(False)\n",
    "plt.gca().spines['left'].set_visible(False)\n",
    "plt.gca().spines['bottom'].set_visible(False)\n",
    "plt.show()"
   ]
  },
  {
   "cell_type": "markdown",
   "id": "9509bb00",
   "metadata": {},
   "source": [
    "'#ebcd24', '#a1bc18', '#4da910', '#35876f'\n",
    "'#147a8e', '#0068b0', '#0051d6', '#0035f9'"
   ]
  },
  {
   "cell_type": "code",
   "execution_count": null,
   "id": "e3aa5e25",
   "metadata": {},
   "outputs": [],
   "source": [
    "plt.figure(figsize=(4.5, 3.8), dpi=180)"
   ]
  }
 ],
 "metadata": {
  "kernelspec": {
   "display_name": "Python 3 (ipykernel)",
   "language": "python",
   "name": "python3"
  },
  "language_info": {
   "codemirror_mode": {
    "name": "ipython",
    "version": 3
   },
   "file_extension": ".py",
   "mimetype": "text/x-python",
   "name": "python",
   "nbconvert_exporter": "python",
   "pygments_lexer": "ipython3",
   "version": "3.10.18"
  }
 },
 "nbformat": 4,
 "nbformat_minor": 5
}
